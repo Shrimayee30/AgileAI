{
  "nbformat": 4,
  "nbformat_minor": 0,
  "metadata": {
    "colab": {
      "provenance": [],
      "toc_visible": true,
      "gpuType": "V5E1",
      "authorship_tag": "ABX9TyM26FHPycicmZ73osF+jwyM",
      "include_colab_link": true
    },
    "kernelspec": {
      "name": "python3",
      "display_name": "Python 3"
    },
    "language_info": {
      "name": "python"
    },
    "accelerator": "TPU"
  },
  "cells": [
    {
      "cell_type": "markdown",
      "metadata": {
        "id": "view-in-github",
        "colab_type": "text"
      },
      "source": [
        "<a href=\"https://colab.research.google.com/github/Shrimayee30/AgileAI/blob/main/playground1.ipynb\" target=\"_parent\"><img src=\"https://colab.research.google.com/assets/colab-badge.svg\" alt=\"Open In Colab\"/></a>"
      ]
    },
    {
      "cell_type": "markdown",
      "source": [],
      "metadata": {
        "id": "tob1IyooKQnP"
      }
    },
    {
      "cell_type": "markdown",
      "source": [
        "# AgileAI"
      ],
      "metadata": {
        "id": "Gs8tfOhOKrt8"
      }
    },
    {
      "cell_type": "markdown",
      "source": [
        "### 1. Import all Libraries and transformer"
      ],
      "metadata": {
        "id": "DslseyGPKO5o"
      }
    },
    {
      "cell_type": "code",
      "execution_count": null,
      "metadata": {
        "colab": {
          "base_uri": "https://localhost:8080/"
        },
        "collapsed": true,
        "id": "1UPub12FlTZf",
        "outputId": "8bc67848-0cce-495c-bf99-a24a5b5cc493"
      },
      "outputs": [
        {
          "output_type": "stream",
          "name": "stdout",
          "text": [
            "Requirement already satisfied: transformers in /usr/local/lib/python3.12/dist-packages (4.57.1)\n",
            "Requirement already satisfied: accelerate in /usr/local/lib/python3.12/dist-packages (1.10.1)\n",
            "Requirement already satisfied: filelock in /usr/local/lib/python3.12/dist-packages (from transformers) (3.20.0)\n",
            "Requirement already satisfied: huggingface-hub<1.0,>=0.34.0 in /usr/local/lib/python3.12/dist-packages (from transformers) (0.35.3)\n",
            "Requirement already satisfied: numpy>=1.17 in /usr/local/lib/python3.12/dist-packages (from transformers) (2.0.2)\n",
            "Requirement already satisfied: packaging>=20.0 in /usr/local/lib/python3.12/dist-packages (from transformers) (25.0)\n",
            "Requirement already satisfied: pyyaml>=5.1 in /usr/local/lib/python3.12/dist-packages (from transformers) (6.0.3)\n",
            "Requirement already satisfied: regex!=2019.12.17 in /usr/local/lib/python3.12/dist-packages (from transformers) (2024.11.6)\n",
            "Requirement already satisfied: requests in /usr/local/lib/python3.12/dist-packages (from transformers) (2.32.4)\n",
            "Requirement already satisfied: tokenizers<=0.23.0,>=0.22.0 in /usr/local/lib/python3.12/dist-packages (from transformers) (0.22.1)\n",
            "Requirement already satisfied: safetensors>=0.4.3 in /usr/local/lib/python3.12/dist-packages (from transformers) (0.6.2)\n",
            "Requirement already satisfied: tqdm>=4.27 in /usr/local/lib/python3.12/dist-packages (from transformers) (4.67.1)\n",
            "Requirement already satisfied: psutil in /usr/local/lib/python3.12/dist-packages (from accelerate) (5.9.5)\n",
            "Requirement already satisfied: torch>=2.0.0 in /usr/local/lib/python3.12/dist-packages (from accelerate) (2.8.0+cu126)\n",
            "Requirement already satisfied: fsspec>=2023.5.0 in /usr/local/lib/python3.12/dist-packages (from huggingface-hub<1.0,>=0.34.0->transformers) (2025.3.0)\n",
            "Requirement already satisfied: typing-extensions>=3.7.4.3 in /usr/local/lib/python3.12/dist-packages (from huggingface-hub<1.0,>=0.34.0->transformers) (4.15.0)\n",
            "Requirement already satisfied: hf-xet<2.0.0,>=1.1.3 in /usr/local/lib/python3.12/dist-packages (from huggingface-hub<1.0,>=0.34.0->transformers) (1.1.10)\n",
            "Requirement already satisfied: setuptools in /usr/local/lib/python3.12/dist-packages (from torch>=2.0.0->accelerate) (75.2.0)\n",
            "Requirement already satisfied: sympy>=1.13.3 in /usr/local/lib/python3.12/dist-packages (from torch>=2.0.0->accelerate) (1.13.3)\n",
            "Requirement already satisfied: networkx in /usr/local/lib/python3.12/dist-packages (from torch>=2.0.0->accelerate) (3.5)\n",
            "Requirement already satisfied: jinja2 in /usr/local/lib/python3.12/dist-packages (from torch>=2.0.0->accelerate) (3.1.6)\n",
            "Requirement already satisfied: nvidia-cuda-nvrtc-cu12==12.6.77 in /usr/local/lib/python3.12/dist-packages (from torch>=2.0.0->accelerate) (12.6.77)\n",
            "Requirement already satisfied: nvidia-cuda-runtime-cu12==12.6.77 in /usr/local/lib/python3.12/dist-packages (from torch>=2.0.0->accelerate) (12.6.77)\n",
            "Requirement already satisfied: nvidia-cuda-cupti-cu12==12.6.80 in /usr/local/lib/python3.12/dist-packages (from torch>=2.0.0->accelerate) (12.6.80)\n",
            "Requirement already satisfied: nvidia-cudnn-cu12==9.10.2.21 in /usr/local/lib/python3.12/dist-packages (from torch>=2.0.0->accelerate) (9.10.2.21)\n",
            "Requirement already satisfied: nvidia-cublas-cu12==12.6.4.1 in /usr/local/lib/python3.12/dist-packages (from torch>=2.0.0->accelerate) (12.6.4.1)\n",
            "Requirement already satisfied: nvidia-cufft-cu12==11.3.0.4 in /usr/local/lib/python3.12/dist-packages (from torch>=2.0.0->accelerate) (11.3.0.4)\n",
            "Requirement already satisfied: nvidia-curand-cu12==10.3.7.77 in /usr/local/lib/python3.12/dist-packages (from torch>=2.0.0->accelerate) (10.3.7.77)\n",
            "Requirement already satisfied: nvidia-cusolver-cu12==11.7.1.2 in /usr/local/lib/python3.12/dist-packages (from torch>=2.0.0->accelerate) (11.7.1.2)\n",
            "Requirement already satisfied: nvidia-cusparse-cu12==12.5.4.2 in /usr/local/lib/python3.12/dist-packages (from torch>=2.0.0->accelerate) (12.5.4.2)\n",
            "Requirement already satisfied: nvidia-cusparselt-cu12==0.7.1 in /usr/local/lib/python3.12/dist-packages (from torch>=2.0.0->accelerate) (0.7.1)\n",
            "Requirement already satisfied: nvidia-nccl-cu12==2.27.3 in /usr/local/lib/python3.12/dist-packages (from torch>=2.0.0->accelerate) (2.27.3)\n",
            "Requirement already satisfied: nvidia-nvtx-cu12==12.6.77 in /usr/local/lib/python3.12/dist-packages (from torch>=2.0.0->accelerate) (12.6.77)\n",
            "Requirement already satisfied: nvidia-nvjitlink-cu12==12.6.85 in /usr/local/lib/python3.12/dist-packages (from torch>=2.0.0->accelerate) (12.6.85)\n",
            "Requirement already satisfied: nvidia-cufile-cu12==1.11.1.6 in /usr/local/lib/python3.12/dist-packages (from torch>=2.0.0->accelerate) (1.11.1.6)\n",
            "Requirement already satisfied: triton==3.4.0 in /usr/local/lib/python3.12/dist-packages (from torch>=2.0.0->accelerate) (3.4.0)\n",
            "Requirement already satisfied: charset_normalizer<4,>=2 in /usr/local/lib/python3.12/dist-packages (from requests->transformers) (3.4.4)\n",
            "Requirement already satisfied: idna<4,>=2.5 in /usr/local/lib/python3.12/dist-packages (from requests->transformers) (3.11)\n",
            "Requirement already satisfied: urllib3<3,>=1.21.1 in /usr/local/lib/python3.12/dist-packages (from requests->transformers) (2.5.0)\n",
            "Requirement already satisfied: certifi>=2017.4.17 in /usr/local/lib/python3.12/dist-packages (from requests->transformers) (2025.10.5)\n",
            "Requirement already satisfied: mpmath<1.4,>=1.1.0 in /usr/local/lib/python3.12/dist-packages (from sympy>=1.13.3->torch>=2.0.0->accelerate) (1.3.0)\n",
            "Requirement already satisfied: MarkupSafe>=2.0 in /usr/local/lib/python3.12/dist-packages (from jinja2->torch>=2.0.0->accelerate) (3.0.3)\n"
          ]
        }
      ],
      "source": [
        "!pip install transformers accelerate"
      ]
    },
    {
      "cell_type": "code",
      "source": [
        "# Load the GPT-J model\n",
        "from transformers import AutoTokenizer, AutoModelForCausalLM\n",
        "\n",
        "model_name = \"EleutherAI/gpt-j-6B\"\n",
        "\n",
        "# Load tokenizer and model\n",
        "tokenizer = AutoTokenizer.from_pretrained(model_name)\n",
        "model = AutoModelForCausalLM.from_pretrained(model_name)"
      ],
      "metadata": {
        "colab": {
          "base_uri": "https://localhost:8080/",
          "height": 311
        },
        "id": "C2Ej0rmklq9A",
        "outputId": "58713bfe-eb48-4615-eebd-c020c98912ba"
      },
      "execution_count": null,
      "outputs": [
        {
          "output_type": "error",
          "ename": "KeyboardInterrupt",
          "evalue": "",
          "traceback": [
            "\u001b[0;31m---------------------------------------------------------------------------\u001b[0m",
            "\u001b[0;31mKeyboardInterrupt\u001b[0m                         Traceback (most recent call last)",
            "\u001b[0;32m/tmp/ipython-input-518527533.py\u001b[0m in \u001b[0;36m<cell line: 0>\u001b[0;34m()\u001b[0m\n\u001b[1;32m      1\u001b[0m \u001b[0;31m# Load the GPT-J model\u001b[0m\u001b[0;34m\u001b[0m\u001b[0;34m\u001b[0m\u001b[0m\n\u001b[0;32m----> 2\u001b[0;31m \u001b[0;32mfrom\u001b[0m \u001b[0mtransformers\u001b[0m \u001b[0;32mimport\u001b[0m \u001b[0mAutoTokenizer\u001b[0m\u001b[0;34m,\u001b[0m \u001b[0mAutoModelForCausalLM\u001b[0m\u001b[0;34m\u001b[0m\u001b[0;34m\u001b[0m\u001b[0m\n\u001b[0m\u001b[1;32m      3\u001b[0m \u001b[0;34m\u001b[0m\u001b[0m\n\u001b[1;32m      4\u001b[0m \u001b[0mmodel_name\u001b[0m \u001b[0;34m=\u001b[0m \u001b[0;34m\"EleutherAI/gpt-j-6B\"\u001b[0m\u001b[0;34m\u001b[0m\u001b[0;34m\u001b[0m\u001b[0m\n\u001b[1;32m      5\u001b[0m \u001b[0;34m\u001b[0m\u001b[0m\n",
            "\u001b[0;32m/usr/lib/python3.12/importlib/_bootstrap.py\u001b[0m in \u001b[0;36m_handle_fromlist\u001b[0;34m(module, fromlist, import_, recursive)\u001b[0m\n",
            "\u001b[0;32m/usr/local/lib/python3.12/dist-packages/transformers/utils/import_utils.py\u001b[0m in \u001b[0;36m__getattr__\u001b[0;34m(self, name)\u001b[0m\n\u001b[1;32m   2315\u001b[0m         \u001b[0;32melif\u001b[0m \u001b[0mname\u001b[0m \u001b[0;32min\u001b[0m \u001b[0mself\u001b[0m\u001b[0;34m.\u001b[0m\u001b[0m_class_to_module\u001b[0m\u001b[0;34m:\u001b[0m\u001b[0;34m\u001b[0m\u001b[0;34m\u001b[0m\u001b[0m\n\u001b[1;32m   2316\u001b[0m             \u001b[0;32mtry\u001b[0m\u001b[0;34m:\u001b[0m\u001b[0;34m\u001b[0m\u001b[0;34m\u001b[0m\u001b[0m\n\u001b[0;32m-> 2317\u001b[0;31m                 \u001b[0mmodule\u001b[0m \u001b[0;34m=\u001b[0m \u001b[0mself\u001b[0m\u001b[0;34m.\u001b[0m\u001b[0m_get_module\u001b[0m\u001b[0;34m(\u001b[0m\u001b[0mself\u001b[0m\u001b[0;34m.\u001b[0m\u001b[0m_class_to_module\u001b[0m\u001b[0;34m[\u001b[0m\u001b[0mname\u001b[0m\u001b[0;34m]\u001b[0m\u001b[0;34m)\u001b[0m\u001b[0;34m\u001b[0m\u001b[0;34m\u001b[0m\u001b[0m\n\u001b[0m\u001b[1;32m   2318\u001b[0m                 \u001b[0mvalue\u001b[0m \u001b[0;34m=\u001b[0m \u001b[0mgetattr\u001b[0m\u001b[0;34m(\u001b[0m\u001b[0mmodule\u001b[0m\u001b[0;34m,\u001b[0m \u001b[0mname\u001b[0m\u001b[0;34m)\u001b[0m\u001b[0;34m\u001b[0m\u001b[0;34m\u001b[0m\u001b[0m\n\u001b[1;32m   2319\u001b[0m             \u001b[0;32mexcept\u001b[0m \u001b[0;34m(\u001b[0m\u001b[0mModuleNotFoundError\u001b[0m\u001b[0;34m,\u001b[0m \u001b[0mRuntimeError\u001b[0m\u001b[0;34m)\u001b[0m \u001b[0;32mas\u001b[0m \u001b[0me\u001b[0m\u001b[0;34m:\u001b[0m\u001b[0;34m\u001b[0m\u001b[0;34m\u001b[0m\u001b[0m\n",
            "\u001b[0;32m/usr/local/lib/python3.12/dist-packages/transformers/utils/import_utils.py\u001b[0m in \u001b[0;36m_get_module\u001b[0;34m(self, module_name)\u001b[0m\n\u001b[1;32m   2343\u001b[0m     \u001b[0;32mdef\u001b[0m \u001b[0m_get_module\u001b[0m\u001b[0;34m(\u001b[0m\u001b[0mself\u001b[0m\u001b[0;34m,\u001b[0m \u001b[0mmodule_name\u001b[0m\u001b[0;34m:\u001b[0m \u001b[0mstr\u001b[0m\u001b[0;34m)\u001b[0m\u001b[0;34m:\u001b[0m\u001b[0;34m\u001b[0m\u001b[0;34m\u001b[0m\u001b[0m\n\u001b[1;32m   2344\u001b[0m         \u001b[0;32mtry\u001b[0m\u001b[0;34m:\u001b[0m\u001b[0;34m\u001b[0m\u001b[0;34m\u001b[0m\u001b[0m\n\u001b[0;32m-> 2345\u001b[0;31m             \u001b[0;32mreturn\u001b[0m \u001b[0mimportlib\u001b[0m\u001b[0;34m.\u001b[0m\u001b[0mimport_module\u001b[0m\u001b[0;34m(\u001b[0m\u001b[0;34m\".\"\u001b[0m \u001b[0;34m+\u001b[0m \u001b[0mmodule_name\u001b[0m\u001b[0;34m,\u001b[0m \u001b[0mself\u001b[0m\u001b[0;34m.\u001b[0m\u001b[0m__name__\u001b[0m\u001b[0;34m)\u001b[0m\u001b[0;34m\u001b[0m\u001b[0;34m\u001b[0m\u001b[0m\n\u001b[0m\u001b[1;32m   2346\u001b[0m         \u001b[0;32mexcept\u001b[0m \u001b[0mException\u001b[0m \u001b[0;32mas\u001b[0m \u001b[0me\u001b[0m\u001b[0;34m:\u001b[0m\u001b[0;34m\u001b[0m\u001b[0;34m\u001b[0m\u001b[0m\n\u001b[1;32m   2347\u001b[0m             \u001b[0;32mraise\u001b[0m \u001b[0me\u001b[0m\u001b[0;34m\u001b[0m\u001b[0;34m\u001b[0m\u001b[0m\n",
            "\u001b[0;32m/usr/lib/python3.12/importlib/__init__.py\u001b[0m in \u001b[0;36mimport_module\u001b[0;34m(name, package)\u001b[0m\n\u001b[1;32m     88\u001b[0m                 \u001b[0;32mbreak\u001b[0m\u001b[0;34m\u001b[0m\u001b[0;34m\u001b[0m\u001b[0m\n\u001b[1;32m     89\u001b[0m             \u001b[0mlevel\u001b[0m \u001b[0;34m+=\u001b[0m \u001b[0;36m1\u001b[0m\u001b[0;34m\u001b[0m\u001b[0;34m\u001b[0m\u001b[0m\n\u001b[0;32m---> 90\u001b[0;31m     \u001b[0;32mreturn\u001b[0m \u001b[0m_bootstrap\u001b[0m\u001b[0;34m.\u001b[0m\u001b[0m_gcd_import\u001b[0m\u001b[0;34m(\u001b[0m\u001b[0mname\u001b[0m\u001b[0;34m[\u001b[0m\u001b[0mlevel\u001b[0m\u001b[0;34m:\u001b[0m\u001b[0;34m]\u001b[0m\u001b[0;34m,\u001b[0m \u001b[0mpackage\u001b[0m\u001b[0;34m,\u001b[0m \u001b[0mlevel\u001b[0m\u001b[0;34m)\u001b[0m\u001b[0;34m\u001b[0m\u001b[0;34m\u001b[0m\u001b[0m\n\u001b[0m\u001b[1;32m     91\u001b[0m \u001b[0;34m\u001b[0m\u001b[0m\n\u001b[1;32m     92\u001b[0m \u001b[0;34m\u001b[0m\u001b[0m\n",
            "\u001b[0;32m/usr/local/lib/python3.12/dist-packages/transformers/models/__init__.py\u001b[0m in \u001b[0;36m<module>\u001b[0;34m\u001b[0m\n\u001b[1;32m    394\u001b[0m \u001b[0;34m\u001b[0m\u001b[0m\n\u001b[1;32m    395\u001b[0m     \u001b[0m_file\u001b[0m \u001b[0;34m=\u001b[0m \u001b[0mglobals\u001b[0m\u001b[0;34m(\u001b[0m\u001b[0;34m)\u001b[0m\u001b[0;34m[\u001b[0m\u001b[0;34m\"__file__\"\u001b[0m\u001b[0;34m]\u001b[0m\u001b[0;34m\u001b[0m\u001b[0;34m\u001b[0m\u001b[0m\n\u001b[0;32m--> 396\u001b[0;31m     \u001b[0msys\u001b[0m\u001b[0;34m.\u001b[0m\u001b[0mmodules\u001b[0m\u001b[0;34m[\u001b[0m\u001b[0m__name__\u001b[0m\u001b[0;34m]\u001b[0m \u001b[0;34m=\u001b[0m \u001b[0m_LazyModule\u001b[0m\u001b[0;34m(\u001b[0m\u001b[0m__name__\u001b[0m\u001b[0;34m,\u001b[0m \u001b[0m_file\u001b[0m\u001b[0;34m,\u001b[0m \u001b[0mdefine_import_structure\u001b[0m\u001b[0;34m(\u001b[0m\u001b[0m_file\u001b[0m\u001b[0;34m)\u001b[0m\u001b[0;34m,\u001b[0m \u001b[0mmodule_spec\u001b[0m\u001b[0;34m=\u001b[0m\u001b[0m__spec__\u001b[0m\u001b[0;34m)\u001b[0m\u001b[0;34m\u001b[0m\u001b[0;34m\u001b[0m\u001b[0m\n\u001b[0m",
            "\u001b[0;32m/usr/local/lib/python3.12/dist-packages/transformers/utils/import_utils.py\u001b[0m in \u001b[0;36mdefine_import_structure\u001b[0;34m(module_path, prefix)\u001b[0m\n\u001b[1;32m   2865\u001b[0m     \u001b[0mIf\u001b[0m\u001b[0;31m \u001b[0m\u001b[0;31m`\u001b[0m\u001b[0mprefix\u001b[0m\u001b[0;31m`\u001b[0m \u001b[0;32mis\u001b[0m \u001b[0;32mnot\u001b[0m \u001b[0;32mNone\u001b[0m\u001b[0;34m,\u001b[0m \u001b[0mit\u001b[0m \u001b[0mwill\u001b[0m \u001b[0madd\u001b[0m \u001b[0mthat\u001b[0m \u001b[0mprefix\u001b[0m \u001b[0mto\u001b[0m \u001b[0mall\u001b[0m \u001b[0mkeys\u001b[0m \u001b[0;32min\u001b[0m \u001b[0mthe\u001b[0m \u001b[0mreturned\u001b[0m \u001b[0mdict\u001b[0m\u001b[0;34m.\u001b[0m\u001b[0;34m\u001b[0m\u001b[0;34m\u001b[0m\u001b[0m\n\u001b[1;32m   2866\u001b[0m     \"\"\"\n\u001b[0;32m-> 2867\u001b[0;31m     \u001b[0mimport_structure\u001b[0m \u001b[0;34m=\u001b[0m \u001b[0mcreate_import_structure_from_path\u001b[0m\u001b[0;34m(\u001b[0m\u001b[0mmodule_path\u001b[0m\u001b[0;34m)\u001b[0m\u001b[0;34m\u001b[0m\u001b[0;34m\u001b[0m\u001b[0m\n\u001b[0m\u001b[1;32m   2868\u001b[0m     \u001b[0mspread_dict\u001b[0m \u001b[0;34m=\u001b[0m \u001b[0mspread_import_structure\u001b[0m\u001b[0;34m(\u001b[0m\u001b[0mimport_structure\u001b[0m\u001b[0;34m)\u001b[0m\u001b[0;34m\u001b[0m\u001b[0;34m\u001b[0m\u001b[0m\n\u001b[1;32m   2869\u001b[0m \u001b[0;34m\u001b[0m\u001b[0m\n",
            "\u001b[0;32m/usr/local/lib/python3.12/dist-packages/transformers/utils/import_utils.py\u001b[0m in \u001b[0;36mcreate_import_structure_from_path\u001b[0;34m(module_path)\u001b[0m\n\u001b[1;32m   2578\u001b[0m     \u001b[0;32mfor\u001b[0m \u001b[0mf\u001b[0m \u001b[0;32min\u001b[0m \u001b[0mos\u001b[0m\u001b[0;34m.\u001b[0m\u001b[0mlistdir\u001b[0m\u001b[0;34m(\u001b[0m\u001b[0mmodule_path\u001b[0m\u001b[0;34m)\u001b[0m\u001b[0;34m:\u001b[0m\u001b[0;34m\u001b[0m\u001b[0;34m\u001b[0m\u001b[0m\n\u001b[1;32m   2579\u001b[0m         \u001b[0;32mif\u001b[0m \u001b[0mf\u001b[0m \u001b[0;34m!=\u001b[0m \u001b[0;34m\"__pycache__\"\u001b[0m \u001b[0;32mand\u001b[0m \u001b[0mos\u001b[0m\u001b[0;34m.\u001b[0m\u001b[0mpath\u001b[0m\u001b[0;34m.\u001b[0m\u001b[0misdir\u001b[0m\u001b[0;34m(\u001b[0m\u001b[0mos\u001b[0m\u001b[0;34m.\u001b[0m\u001b[0mpath\u001b[0m\u001b[0;34m.\u001b[0m\u001b[0mjoin\u001b[0m\u001b[0;34m(\u001b[0m\u001b[0mmodule_path\u001b[0m\u001b[0;34m,\u001b[0m \u001b[0mf\u001b[0m\u001b[0;34m)\u001b[0m\u001b[0;34m)\u001b[0m\u001b[0;34m:\u001b[0m\u001b[0;34m\u001b[0m\u001b[0;34m\u001b[0m\u001b[0m\n\u001b[0;32m-> 2580\u001b[0;31m             \u001b[0mimport_structure\u001b[0m\u001b[0;34m[\u001b[0m\u001b[0mf\u001b[0m\u001b[0;34m]\u001b[0m \u001b[0;34m=\u001b[0m \u001b[0mcreate_import_structure_from_path\u001b[0m\u001b[0;34m(\u001b[0m\u001b[0mos\u001b[0m\u001b[0;34m.\u001b[0m\u001b[0mpath\u001b[0m\u001b[0;34m.\u001b[0m\u001b[0mjoin\u001b[0m\u001b[0;34m(\u001b[0m\u001b[0mmodule_path\u001b[0m\u001b[0;34m,\u001b[0m \u001b[0mf\u001b[0m\u001b[0;34m)\u001b[0m\u001b[0;34m)\u001b[0m\u001b[0;34m\u001b[0m\u001b[0;34m\u001b[0m\u001b[0m\n\u001b[0m\u001b[1;32m   2581\u001b[0m \u001b[0;34m\u001b[0m\u001b[0m\n\u001b[1;32m   2582\u001b[0m         \u001b[0;32melif\u001b[0m \u001b[0;32mnot\u001b[0m \u001b[0mos\u001b[0m\u001b[0;34m.\u001b[0m\u001b[0mpath\u001b[0m\u001b[0;34m.\u001b[0m\u001b[0misdir\u001b[0m\u001b[0;34m(\u001b[0m\u001b[0mos\u001b[0m\u001b[0;34m.\u001b[0m\u001b[0mpath\u001b[0m\u001b[0;34m.\u001b[0m\u001b[0mjoin\u001b[0m\u001b[0;34m(\u001b[0m\u001b[0mdirectory\u001b[0m\u001b[0;34m,\u001b[0m \u001b[0mf\u001b[0m\u001b[0;34m)\u001b[0m\u001b[0;34m)\u001b[0m\u001b[0;34m:\u001b[0m\u001b[0;34m\u001b[0m\u001b[0;34m\u001b[0m\u001b[0m\n",
            "\u001b[0;32m/usr/local/lib/python3.12/dist-packages/transformers/utils/import_utils.py\u001b[0m in \u001b[0;36mcreate_import_structure_from_path\u001b[0;34m(module_path)\u001b[0m\n\u001b[1;32m   2602\u001b[0m             \u001b[0;32mcontinue\u001b[0m\u001b[0;34m\u001b[0m\u001b[0;34m\u001b[0m\u001b[0m\n\u001b[1;32m   2603\u001b[0m \u001b[0;34m\u001b[0m\u001b[0m\n\u001b[0;32m-> 2604\u001b[0;31m         \u001b[0;32mwith\u001b[0m \u001b[0mopen\u001b[0m\u001b[0;34m(\u001b[0m\u001b[0mos\u001b[0m\u001b[0;34m.\u001b[0m\u001b[0mpath\u001b[0m\u001b[0;34m.\u001b[0m\u001b[0mjoin\u001b[0m\u001b[0;34m(\u001b[0m\u001b[0mdirectory\u001b[0m\u001b[0;34m,\u001b[0m \u001b[0mmodule_name\u001b[0m\u001b[0;34m)\u001b[0m\u001b[0;34m,\u001b[0m \u001b[0mencoding\u001b[0m\u001b[0;34m=\u001b[0m\u001b[0;34m\"utf-8\"\u001b[0m\u001b[0;34m)\u001b[0m \u001b[0;32mas\u001b[0m \u001b[0mf\u001b[0m\u001b[0;34m:\u001b[0m\u001b[0;34m\u001b[0m\u001b[0;34m\u001b[0m\u001b[0m\n\u001b[0m\u001b[1;32m   2605\u001b[0m             \u001b[0mfile_content\u001b[0m \u001b[0;34m=\u001b[0m \u001b[0mf\u001b[0m\u001b[0;34m.\u001b[0m\u001b[0mread\u001b[0m\u001b[0;34m(\u001b[0m\u001b[0;34m)\u001b[0m\u001b[0;34m\u001b[0m\u001b[0;34m\u001b[0m\u001b[0m\n\u001b[1;32m   2606\u001b[0m \u001b[0;34m\u001b[0m\u001b[0m\n",
            "\u001b[0;32m/usr/lib/python3.12/codecs.py\u001b[0m in \u001b[0;36m__init__\u001b[0;34m(self, errors)\u001b[0m\n",
            "\u001b[0;31mKeyboardInterrupt\u001b[0m: "
          ]
        }
      ]
    },
    {
      "cell_type": "code",
      "source": [],
      "metadata": {
        "id": "PJaoPowbzxzx"
      },
      "execution_count": null,
      "outputs": []
    },
    {
      "cell_type": "markdown",
      "source": [
        "### 2. Data Loading\n",
        "Fetch the data from the drive and do data validation, preprocessing etc"
      ],
      "metadata": {
        "id": "4iQtevYfLouD"
      }
    },
    {
      "cell_type": "code",
      "source": [
        "from google.colab import drive\n",
        "drive.mount('/content/drive')"
      ],
      "metadata": {
        "id": "OXcvSB-cLsuo",
        "colab": {
          "base_uri": "https://localhost:8080/"
        },
        "outputId": "694002e7-0aaa-45f3-c0ed-6821a194cfe5"
      },
      "execution_count": 2,
      "outputs": [
        {
          "output_type": "stream",
          "name": "stdout",
          "text": [
            "Mounted at /content/drive\n"
          ]
        }
      ]
    },
    {
      "cell_type": "code",
      "source": [
        "# Define your folder paths\n",
        "data_folder = \"/content/drive/MyDrive/AgileAI/Part 1/data\"\n",
        "template_folder = \"/content/drive/MyDrive/AgileAI/Part 1/templates\""
      ],
      "metadata": {
        "id": "dLDEZ03UM3Df"
      },
      "execution_count": 3,
      "outputs": []
    },
    {
      "cell_type": "code",
      "source": [
        "import os\n",
        "\n",
        "# List project description files (PDFs)\n",
        "data_files = sorted([f for f in os.listdir(data_folder) if f.endswith('.pdf')])\n",
        "print(\"Project Description Files:\", data_files)\n",
        "\n",
        "# List template files (TXT)\n",
        "template_files = sorted([f for f in os.listdir(template_folder) if f.endswith('.txt')])\n",
        "print(\"Template Files:\", template_files)"
      ],
      "metadata": {
        "colab": {
          "base_uri": "https://localhost:8080/"
        },
        "id": "3ZP1hcWN8MAb",
        "outputId": "7b66ac16-4a4e-495c-d7f6-1013eb4ff1d8"
      },
      "execution_count": 4,
      "outputs": [
        {
          "output_type": "stream",
          "name": "stdout",
          "text": [
            "Project Description Files: ['AI model - Online Transaction Fraud Detection.pdf', 'Data Science - Sales Analysis.pdf', 'IOT - smart home.pdf', 'Mobile Application - Digital Banking.pdf', 'Website - E commerce fashion.pdf']\n",
            "Template Files: ['AI-system_template.txt', 'DS_template.txt', 'Mobile-app_template.txt', 'Universal_template.txt', 'Webapp_template.txt', 'iot_template.txt']\n"
          ]
        }
      ]
    },
    {
      "cell_type": "code",
      "source": [
        "# read the project description pdfs\n",
        "!pip install PyMuPDF\n",
        "\n",
        "import fitz  # PyMuPDF\n",
        "import os\n",
        "\n",
        "def extract_text_from_pdf(pdf_path):\n",
        "    doc = fitz.open(pdf_path)\n",
        "    return \"\\n\".join([page.get_text() for page in doc])\n",
        "\n",
        "pdf_files = sorted([f for f in os.listdir(data_folder) if f.endswith('.pdf')])\n",
        "raw_texts = {f: extract_text_from_pdf(os.path.join(data_folder, f)) for f in pdf_files}"
      ],
      "metadata": {
        "colab": {
          "base_uri": "https://localhost:8080/"
        },
        "id": "FZpBDqsR8QC0",
        "outputId": "ba5cb124-dcbb-4d91-c51d-2d911dae2e97"
      },
      "execution_count": 5,
      "outputs": [
        {
          "output_type": "stream",
          "name": "stdout",
          "text": [
            "Collecting PyMuPDF\n",
            "  Downloading pymupdf-1.26.5-cp39-abi3-manylinux_2_28_x86_64.whl.metadata (3.4 kB)\n",
            "Downloading pymupdf-1.26.5-cp39-abi3-manylinux_2_28_x86_64.whl (24.1 MB)\n",
            "\u001b[2K   \u001b[90m━━━━━━━━━━━━━━━━━━━━━━━━━━━━━━━━━━━━━━━━\u001b[0m \u001b[32m24.1/24.1 MB\u001b[0m \u001b[31m68.9 MB/s\u001b[0m eta \u001b[36m0:00:00\u001b[0m\n",
            "\u001b[?25hInstalling collected packages: PyMuPDF\n",
            "Successfully installed PyMuPDF-1.26.5\n"
          ]
        }
      ]
    },
    {
      "cell_type": "code",
      "source": [
        "# Load all templates\n",
        "template_texts = {}\n",
        "for filename in template_files:\n",
        "    path = os.path.join(template_folder, filename)\n",
        "    with open(path, \"r\") as f:\n",
        "        template_texts[filename] = f.read()"
      ],
      "metadata": {
        "id": "SWwB1qTX8YUD"
      },
      "execution_count": 6,
      "outputs": []
    },
    {
      "cell_type": "code",
      "source": [
        "# Lets see our data, preview first 1000 characters of each project\n",
        "for name, text in raw_texts.items():\n",
        "    print(f\"\\n--- {name} ---\\n\")\n",
        "    print(text[:1000])"
      ],
      "metadata": {
        "colab": {
          "base_uri": "https://localhost:8080/"
        },
        "collapsed": true,
        "id": "nstERe7v8rxm",
        "outputId": "eede9c45-7020-44ac-bbe1-577385f7c7a8"
      },
      "execution_count": 7,
      "outputs": [
        {
          "output_type": "stream",
          "name": "stdout",
          "text": [
            "\n",
            "--- AI model - Online Transaction Fraud Detection.pdf ---\n",
            "\n",
            "          International Research Journal of Engineering and Technology (IRJET)       e-ISSN: 2395-0056 \n",
            "                Volume: 11 Issue: 04 | Apr 2024              www.irjet.net                                                                        p-ISSN: 2395-0072 \n",
            " \n",
            " \n",
            "© 2024, IRJET       |       Impact Factor value: 8.226       |       ISO 9001:2008 Certified Journal       |     Page 2499 \n",
            " \n",
            "Online Transaction Fraud Detection Using Machine Learning  \n",
            " Dr.Ranjit K N1, Ms. Bhoomika Rajendra Vernekar2, Ms. Chandana MR3, Ms. Spandana MP4,  \n",
            "Mr. Mallikarjun Bachwar5 \n",
            "1 Associate Professor, Dept. of Computer Science and Engineering, Maharaja Institute of Technology, \n",
            "Thandavapura \n",
            "2,3,4,5Students, Dept of Computer Science and Engineering, Maharaja Institute of Technology, Thandavapura \n",
            "---------------------------------------------------------------------***---------------------------------------------------------------------\n",
            "Abstract – Nowadays, people conduct practically all their \n",
            "busi\n",
            "\n",
            "--- Data Science - Sales Analysis.pdf ---\n",
            "\n",
            "                                                                        \n",
            "                                    e-ISSN:2582-5208 \n",
            "International  Research Journal of Modernization  in  Engineering  Technology  and Science \n",
            "Volume:03/Issue:06/June-2021              Impact Factor- 5.354                            www.irjmets.com   \n",
            "www.irjmets.com                           @International Research Journal of Modernization in Engineering, Technology and Science \n",
            " [522] \n",
            "SALES ANALYSIS AND PREDICTION DASHBOARD USING POWER BI \n",
            "Monika Raje*1, Priyanshi Jain*2, Vikrant Chole*3 \n",
            "*1,2,3Department of Computer Science and Engineering, G. H Raisoni Institute of Engineering & \n",
            "Technology, Nagpur Maharashtra, India. \n",
            "ABSTRACT \n",
            "Business Intelligence can be defined as a solution that helps companies make wise decisions in business \n",
            "processes. It can be a tool to effectively organize and convert data into information, which is the basis of \n",
            "knowledge in decision-making. With the help of the right business t\n",
            "\n",
            "--- IOT - smart home.pdf ---\n",
            "\n",
            "Copyright: © the author(s), publisher and licensee Technoscience Academy. This is an open-access article distributed under the \n",
            "terms of the Creative Commons Attribution Non-Commercial License, which permits unrestricted non-commercial use, \n",
            "distribution, and reproduction in any medium, provided the original work is properly cited \n",
            "4th National Conference on Green Technology and Science for Sustainable Development \n",
            "© 2023 IJSRST | Volume 10 | Issue 10 | Print ISSN: 2395-6011 | Online ISSN: 2395-602X \n",
            "International Journal of Scientific Research in Science and Technology \n",
            " \n",
            " \n",
            " \n",
            " \n",
            " \n",
            " \n",
            " \n",
            "97 \n",
            " \n",
            "Home Automation System using IoT \n",
            "Prof. D.G.Vyawhare, Saurabh S. Suradkar, Rahul N. Gaware \n",
            "Department of Computer Science & Engineering, Anuradha Engineering College, Chikhli, Maharashtra, India \n",
            " \n",
            "ABSTRACT \n",
            " \n",
            "The theme of this home automation project using IOT is to create a smarter, more efficient, and more secure \n",
            "home .Time is a very valuable thing. Everybody wants to save time. In this Project\n",
            "\n",
            "--- Mobile Application - Digital Banking.pdf ---\n",
            "\n",
            " \n",
            "Mobile Banking Application and Digital Banking \n",
            " \n",
            "Project report submitted in partial fulfillment of the \n",
            "requirement for the degree of Bachelor of Technology \n",
            " \n",
            "in \n",
            " \n",
            "Computer Science and Engineering \n",
            " \n",
            "By \n",
            " \n",
            "Aarush Saxena (191315) \n",
            " \n",
            "Under the supervision of  \n",
            " \n",
            "Dr. Aman Sharma \n",
            " \n",
            "to \n",
            " \n",
            " \n",
            " \n",
            "Department of Computer Science & Engineering and \n",
            "Information Technology \n",
            " \n",
            "Jaypee University of Information Technology \n",
            "Waknaghat, Solan-173234, Himachal Pradesh \n",
            "\n",
            " \n",
            " \n",
            " \n",
            "Candidate’s Declaration \n",
            " \n",
            "I hereby declare that the work reported in the B.Tech Project Report entitled \n",
            "“Mobile Banking Application and Digital Banking” submitted at the Jaypee \n",
            "University of Information Technology, Waknaghat, India is an authentic record of \n",
            "our work carried out under the supervision of Dr. Aman Sharma and Mr. Murari \n",
            "Lal. I have not submitted this work elsewhere for any other degree or diploma. \n",
            " \n",
            "Aarush Saxena       191315  \n",
            " \n",
            "This is to certify that the above statement made by the candidates is correct to\n",
            "\n",
            "--- Website - E commerce fashion.pdf ---\n",
            "\n",
            "Governors State University\n",
            "OPUS Open Portal to University Scholarship\n",
            "All Capstone Projects\n",
            "Student Capstone Projects\n",
            "Summer 2014\n",
            "Design and Implementation of E-Commerce Site\n",
            "for Online Shopping\n",
            "Sidhartha Reddy Vatrapu\n",
            "Governors State University\n",
            "Follow this and additional works at: https://opus.govst.edu/capstones\n",
            "Part of the Databases and Information Systems Commons, and the Systems Architecture\n",
            "Commons\n",
            "For more information about the academic degree, extended learning, and certificate programs of Governors State University, go to\n",
            "http://www.govst.edu/Academics/Degree_Programs_and_Certifications/\n",
            "Visit the Governors State Computer Science Department\n",
            "This Project Summary is brought to you for free and open access by the Student Capstone Projects at OPUS Open Portal to University Scholarship. It\n",
            "has been accepted for inclusion in All Capstone Projects by an authorized administrator of OPUS Open Portal to University Scholarship. For more\n",
            "information, please contact opus@govst.edu.\n",
            "Recomme\n"
          ]
        }
      ]
    },
    {
      "cell_type": "code",
      "source": [],
      "metadata": {
        "id": "vGnD2a5s8230"
      },
      "execution_count": null,
      "outputs": []
    },
    {
      "cell_type": "markdown",
      "source": [
        "### Data Preprocessing\n",
        "From the pdfs, we're going to remove the unnecessary sections:\n",
        "- Page numbers, headers/footers\n",
        "- Citations, references, footnotes\n",
        "- Academic boilerplate (e.g., “Abstract\",“Acknowledgements”)\n",
        "\n",
        "Keep only sections that describe:\n",
        "- Project goal or purpose\n",
        "- Functional modules/screens/pages\n",
        "- Technologies used\n",
        "- User roles or flows\n",
        "- Data sources or integrations\n",
        "\n",
        "Lastly, we're going to Normalize for Prompt Consistency to ensure:\n",
        "- Consistent casing (e.g., title case for page names)\n",
        "- Clear separation between modules\n",
        "- No trailing whitespace or broken sentences"
      ],
      "metadata": {
        "id": "xnls8m7dBFiy"
      }
    },
    {
      "cell_type": "code",
      "source": [
        "import re\n",
        "\n",
        "# Step 1: Remove academic metadata and boilerplate\n",
        "def clean_text(text):\n",
        "    text = re.sub(r'\\s+', ' ', text)\n",
        "\n",
        "    # Journal metadata\n",
        "    text = re.sub(r'(e-ISSN|p-ISSN|Impact Factor|Volume:?|Issue:?|ISO 9001|Certified Journal|IRJET|IRJMETS|IJSRST|OPUS Open Portal|National Conference)', '', text, flags=re.IGNORECASE)\n",
        "\n",
        "    # Author and affiliation blocks\n",
        "    text = re.sub(r'(Dr\\.|Mr\\.|Ms\\.|Prof\\.|By [A-Z][a-z]+|[A-Z][a-z]+ [A-Z]\\.?[A-Z]*\\d*|Department of .*?Engineering|Institute of .*?Technology|University of .*?Technology).*?(?=\\s[A-Z])', '', text)\n",
        "\n",
        "    # Declaration and acknowledgements\n",
        "    text = re.sub(r'(Candidate’s Declaration|This is to certify|I hereby declare|submitted in partial fulfillment|ACKNOWLEDGEMENTS|Supervisor|Project Coordinator|authorized administrator).*?(?=\\s[A-Z])', '', text, flags=re.IGNORECASE)\n",
        "    text = re.sub(r'(Follow this and additional works at|Part of the .*? Commons|Visit the .*? Department|This project has been made possible by .*?|I would like to express .*?|In completing this graduate project .*?)', '', text, flags=re.IGNORECASE)\n",
        "\n",
        "    # Copyright and license\n",
        "    text = re.sub(r'(Copyright|Creative Commons Attribution|Licensee|Open-access article|© \\d{4})', '', text, flags=re.IGNORECASE)\n",
        "\n",
        "    # URLs and emails\n",
        "    text = re.sub(r'http\\S+|www\\.\\S+|@\\S+', '', text)\n",
        "\n",
        "    # Broken figure/table labels\n",
        "    text = re.sub(r'(Figure|Table) \\d+:?\\s*$', '', text)\n",
        "\n",
        "    return text.strip()\n",
        "\n",
        "# Step 2: Fix fragmented and broken phrases\n",
        "def fix_phrases(text):\n",
        "    text = re.sub(r'[\\|]{2,}|[-]{2,}|[:\\-]{2,}', '', text)\n",
        "    text = re.sub(r'([a-zA-Z])\\s{2,}([a-zA-Z])', r'\\1 \\2', text)\n",
        "    text = re.sub(r'\\s{2,}', ' ', text)\n",
        "    text = re.sub(r'\\.\\s*([a-z])', lambda m: '. ' + m.group(1).upper(), text)\n",
        "    text = re.sub(r'([a-z]) ([A-Z])', r'\\1. \\2', text)\n",
        "    text = re.sub(r'\\.(?=[a-z])', '. ', text)\n",
        "    return text.strip()\n",
        "\n",
        "# Step 3: Remove structural artifacts\n",
        "def strip_structural_artifacts(text):\n",
        "    text = re.sub(r'\\b[A-Z]{2,}\\b', '', text)\n",
        "    text = re.sub(r'\\d+\\.\\d+.*?(?=\\s[A-Z])', '', text)\n",
        "    text = re.sub(r'DETAILS[.·•:_\\-–—=]{5,}', '', text)\n",
        "    text = re.sub(r'[.·•:_\\-–—=]{5,}', '', text)\n",
        "    text = re.sub(r'\\bProjects at to\\b|\\bProjects by an of to\\b', '', text)\n",
        "    return text.strip()\n",
        "\n",
        "# Step 4: Extract scope-relevant sentences\n",
        "def extract_scope(text):\n",
        "    keywords = ['project', 'system', 'module', 'screen', 'dashboard', 'sensor', 'user', 'technology', 'goal', 'objective', 'function', 'feature', 'process', 'application', 'payment', 'security', 'automation', 'shopping cart']\n",
        "    sentences = re.split(r'(?<=[.!?]) +', text)\n",
        "    scoped = [s for s in sentences if any(k in s.lower() for k in keywords) and len(s.strip()) > 50]\n",
        "    return \" \".join(scoped)\n"
      ],
      "metadata": {
        "id": "mNrWeJ5y15Rq"
      },
      "execution_count": 9,
      "outputs": []
    },
    {
      "cell_type": "code",
      "source": [
        "def preprocess_pipeline(text):\n",
        "    cleaned = clean_text(text)\n",
        "    fixed = fix_phrases(cleaned)\n",
        "    stripped = strip_structural_artifacts(fixed)\n",
        "    scoped = extract_scope(stripped)\n",
        "    return scoped\n"
      ],
      "metadata": {
        "id": "dmPXy1-q758i"
      },
      "execution_count": 10,
      "outputs": []
    },
    {
      "cell_type": "code",
      "source": [
        "final_texts = {name: preprocess_pipeline(raw) for name, raw in raw_texts.items()}\n",
        "for name, text in final_texts.items():\n",
        "    print(f\"\\n--- {name} ---\\n\")\n",
        "    print(text[:1000])\n"
      ],
      "metadata": {
        "colab": {
          "base_uri": "https://localhost:8080/"
        },
        "id": "N2jug2An78Pr",
        "outputId": "bb6c5755-b314-416a-93cd-6652be515337"
      },
      "execution_count": 15,
      "outputs": [
        {
          "output_type": "stream",
          "name": "stdout",
          "text": [
            "\n",
            "--- AI model - Online Transaction Fraud Detection.pdf ---\n",
            "\n",
            "Technology () : 2395-0056 11 04 | Apr 2024 : 2395-0072 , | value:  Page 2499 K N1, Vernekar2, Dept. Engineering, Technology, Thandavapura 2,3,4,5Students, Dept of. Engineering, Technology, Thandavapura *** Abstract – Nowadays, people conduct practically all their business online. While there are many benefits to online transactions, like viability, speedier payments, and ease of use, there are drawbacks as well, including fraud, phishing, and data theft. A feature-engineered machine learning-based model that is. Finally, understanding the costs and risks associated with payment methods is essential to fighting fraud in a methodical and cost- effective manner. Despite the deployment of multiple security measures, fraudulent transactions nonetheless result in the loss of a substantial amount of money. The process of monitoring user activity to assess, spot, or stop unwanted behaviour, such as fraud, intrusion, and defaults, is known as fraud detection. Real-world examples show how fast a\n",
            "\n",
            "--- Data Science - Sales Analysis.pdf ---\n",
            "\n",
            "With the help of the right business technology solution, the company can play a significant role in monitoring the business performance on time, quickly responding to the external business environment. This project aims to create a sales dashboard that displays monthly sales performance by looking at data and visualizing them in power. Based on the results of the evaluation, analysis, and prediction this sales dashboard meets the requirements of the sales department. The process of data delivery becomes smoother between visualized data and users than before. By viewing the sales dashboard, users can easily clarify sales performance in the current month. In the case of data, a large amount of data is generated in the daily business process. and business strategies confirming the core processes and delivering the required benefits to the businesses and their stakeholders. tо demоnstrаte mоnthly sаles рerfоrmаnсe whiсh will рrоvide dаtа аnd user-relаted infоrmаtiоn. Users can still fоllоw\n",
            "\n",
            "--- IOT - smart home.pdf ---\n",
            "\n",
            "IoT D.G.Vyawhare, Suradkar, Engineering, College, Chikhli, Maharashtra, The theme of this home automation project using. technology to automate various aspects of the home, such as lighting, Gate, security, and many more. The goal is to create a home that is more comfortable, efficient, and secure, while also reducing energy costs. This study aims to develop an smart home automation system. Home automation is constructing automation for a domestic, mentioned as a sensible home or smart house. IoT home automation ecosystem, you can control your devices like light, fan, , etc. A domestic automation system can monitor and/or manage home attributes adore lighting, climate, enjoyment systems, and appliances. It’s going to in addition incorporates domestic security such as access management and alarm systems. A domestic automation system usually connects controlled devices to a central hub or gateway. The program for control of the system makes use of both wall-mounted terminals, tablet or d\n",
            "\n",
            "--- Mobile Application - Digital Banking.pdf ---\n",
            "\n",
            "Project report of the requirement for the degree of. Lal, In addition, I humbly thank everyone who has contributed to the success of my project, whether directly or indirectly. In this particular circumstance, I want to express my gratitude to all of the staff members—teaching and non-teaching— who have provided me with practical assistance and made my project possible. Introduction 1  Introduction  Objectives  Methodology 2. Analysis  Attributes  Conclusion 57  Figure 1 Logo 4 The registration process to be followed in the application 6 Process 7 The process flow of. Application 13 Registration method 14 Post-Login page of the app 15 Setting up page of. Balance view page in the application 2 17 Account statement page for term deposit in the application 18 Account statement page for savings in the application 19 Landing page for term deposit opening page 20 Pin 3  The creation of a mobile banking application for. The goal is to develop a safe, effective, and easy app that lets users ef\n",
            "\n",
            "--- Website - E commerce fashion.pdf ---\n",
            "\n",
            "This project allows viewing various products available enables registered users to purchase desired products instantly using. Delivery ( This project provides an easy access to. This is a project with the objective to develop a basic website where a consumer is provided with a shopping cart application and also to know about the technologies used to develop such an application. I am also thankful for her continuous feedback and encouragement throughout this project work. More and more business houses are implementing web sites providing functionality for performing commercial transactions over the web. It is reasonable to say that the process of shopping on the web is becoming commonplace. The objective of this project is to develop a general purpose e-commerce store where product like clothes can be bought from the comfort of home through the. The selected items may be collected in a shopping cart. At checkout time, the items in the shopping cart will be presented as an order. Usually\n"
          ]
        }
      ]
    },
    {
      "cell_type": "markdown",
      "source": [
        "As we can see, I have removed the irrelevant pages such as acknowledgements, related work, index etc, still some parts of it remains, but its much more cleaner and lesser scoped than before."
      ],
      "metadata": {
        "id": "Elt497R08fKh"
      }
    },
    {
      "cell_type": "code",
      "source": [],
      "metadata": {
        "id": "llQHuSWc7_PC"
      },
      "execution_count": null,
      "outputs": []
    }
  ]
}